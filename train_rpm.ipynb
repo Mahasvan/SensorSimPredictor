{
 "cells": [
  {
   "cell_type": "code",
   "execution_count": 4,
   "id": "initial_id",
   "metadata": {
    "collapsed": true,
    "ExecuteTime": {
     "end_time": "2024-03-16T04:02:16.304012Z",
     "start_time": "2024-03-16T04:02:16.293148Z"
    }
   },
   "outputs": [],
   "source": [
    "import pandas as pd"
   ]
  },
  {
   "cell_type": "markdown",
   "source": [
    "# Dataset Information\n",
    "### This dataset contains the data of 10 cars in the CARLA simulation environment, with the features as shown below."
   ],
   "metadata": {
    "collapsed": false
   },
   "id": "2047ef4deafb1136"
  },
  {
   "cell_type": "code",
   "outputs": [],
   "source": [
    "df = pd.read_csv('vehicle_data.csv')"
   ],
   "metadata": {
    "collapsed": false,
    "ExecuteTime": {
     "end_time": "2024-03-16T04:02:17.899030Z",
     "start_time": "2024-03-16T04:02:17.875295Z"
    }
   },
   "id": "f2a8dfdc05e5215a",
   "execution_count": 5
  },
  {
   "cell_type": "code",
   "outputs": [
    {
     "data": {
      "text/plain": "      timestamp  vehicle_id  gear  throttle     speed  acceleration  max_rpm  \\\n0  1.708225e+09           0     0      0.85  1.061667     25.723619   6300.0   \n1  1.708225e+09           1     0      0.85  0.816886     28.389420   4700.0   \n2  1.708225e+09           0     0      0.85  0.274378      0.511369   6300.0   \n3  1.708225e+09           1     0      0.85  0.239636      0.081476   4700.0   \n4  1.708225e+09           0     0      0.85  0.076758      0.820615   6300.0   \n\n   gear_ratio  wheel_radius  engine_rpm  inclination tyre_pressure  odometer  \\\n0       3.450          0.33   30.737318     0.068042  (0, 0, 0, 0)  0.000000   \n1       3.769          0.34   22.954825     0.000000  (0, 0, 0, 0)  0.000000   \n2       3.450          0.33    7.943773     0.136481  (0, 0, 0, 0)  0.029130   \n3       3.769          0.34    6.733879     0.000000  (0, 0, 0, 0)  0.006514   \n4       3.450          0.33    2.222298     0.082611  (0, 0, 0, 0)  0.062866   \n\n   fuel_consumed  ignition_status  engine_oil_life  new_battery_percent  \n0   0.000000e+00             True       100.000000            99.998069  \n1   0.000000e+00             True       100.000000            99.997473  \n2   5.490478e-06             True        99.999999            99.996138  \n3   4.736946e-07             True       100.000000            99.994946  \n4   1.507606e-05             True        99.999999            99.994207  ",
      "text/html": "<div>\n<style scoped>\n    .dataframe tbody tr th:only-of-type {\n        vertical-align: middle;\n    }\n\n    .dataframe tbody tr th {\n        vertical-align: top;\n    }\n\n    .dataframe thead th {\n        text-align: right;\n    }\n</style>\n<table border=\"1\" class=\"dataframe\">\n  <thead>\n    <tr style=\"text-align: right;\">\n      <th></th>\n      <th>timestamp</th>\n      <th>vehicle_id</th>\n      <th>gear</th>\n      <th>throttle</th>\n      <th>speed</th>\n      <th>acceleration</th>\n      <th>max_rpm</th>\n      <th>gear_ratio</th>\n      <th>wheel_radius</th>\n      <th>engine_rpm</th>\n      <th>inclination</th>\n      <th>tyre_pressure</th>\n      <th>odometer</th>\n      <th>fuel_consumed</th>\n      <th>ignition_status</th>\n      <th>engine_oil_life</th>\n      <th>new_battery_percent</th>\n    </tr>\n  </thead>\n  <tbody>\n    <tr>\n      <th>0</th>\n      <td>1.708225e+09</td>\n      <td>0</td>\n      <td>0</td>\n      <td>0.85</td>\n      <td>1.061667</td>\n      <td>25.723619</td>\n      <td>6300.0</td>\n      <td>3.450</td>\n      <td>0.33</td>\n      <td>30.737318</td>\n      <td>0.068042</td>\n      <td>(0, 0, 0, 0)</td>\n      <td>0.000000</td>\n      <td>0.000000e+00</td>\n      <td>True</td>\n      <td>100.000000</td>\n      <td>99.998069</td>\n    </tr>\n    <tr>\n      <th>1</th>\n      <td>1.708225e+09</td>\n      <td>1</td>\n      <td>0</td>\n      <td>0.85</td>\n      <td>0.816886</td>\n      <td>28.389420</td>\n      <td>4700.0</td>\n      <td>3.769</td>\n      <td>0.34</td>\n      <td>22.954825</td>\n      <td>0.000000</td>\n      <td>(0, 0, 0, 0)</td>\n      <td>0.000000</td>\n      <td>0.000000e+00</td>\n      <td>True</td>\n      <td>100.000000</td>\n      <td>99.997473</td>\n    </tr>\n    <tr>\n      <th>2</th>\n      <td>1.708225e+09</td>\n      <td>0</td>\n      <td>0</td>\n      <td>0.85</td>\n      <td>0.274378</td>\n      <td>0.511369</td>\n      <td>6300.0</td>\n      <td>3.450</td>\n      <td>0.33</td>\n      <td>7.943773</td>\n      <td>0.136481</td>\n      <td>(0, 0, 0, 0)</td>\n      <td>0.029130</td>\n      <td>5.490478e-06</td>\n      <td>True</td>\n      <td>99.999999</td>\n      <td>99.996138</td>\n    </tr>\n    <tr>\n      <th>3</th>\n      <td>1.708225e+09</td>\n      <td>1</td>\n      <td>0</td>\n      <td>0.85</td>\n      <td>0.239636</td>\n      <td>0.081476</td>\n      <td>4700.0</td>\n      <td>3.769</td>\n      <td>0.34</td>\n      <td>6.733879</td>\n      <td>0.000000</td>\n      <td>(0, 0, 0, 0)</td>\n      <td>0.006514</td>\n      <td>4.736946e-07</td>\n      <td>True</td>\n      <td>100.000000</td>\n      <td>99.994946</td>\n    </tr>\n    <tr>\n      <th>4</th>\n      <td>1.708225e+09</td>\n      <td>0</td>\n      <td>0</td>\n      <td>0.85</td>\n      <td>0.076758</td>\n      <td>0.820615</td>\n      <td>6300.0</td>\n      <td>3.450</td>\n      <td>0.33</td>\n      <td>2.222298</td>\n      <td>0.082611</td>\n      <td>(0, 0, 0, 0)</td>\n      <td>0.062866</td>\n      <td>1.507606e-05</td>\n      <td>True</td>\n      <td>99.999999</td>\n      <td>99.994207</td>\n    </tr>\n  </tbody>\n</table>\n</div>"
     },
     "execution_count": 6,
     "metadata": {},
     "output_type": "execute_result"
    }
   ],
   "source": [
    "df.head()"
   ],
   "metadata": {
    "collapsed": false,
    "ExecuteTime": {
     "end_time": "2024-03-16T04:02:18.449179Z",
     "start_time": "2024-03-16T04:02:18.435011Z"
    }
   },
   "id": "1b7c347abf302636",
   "execution_count": 6
  },
  {
   "cell_type": "code",
   "outputs": [],
   "source": [
    "df = df[df[\"vehicle_id\"] == 0]"
   ],
   "metadata": {
    "collapsed": false,
    "ExecuteTime": {
     "end_time": "2024-03-16T04:02:19.559357Z",
     "start_time": "2024-03-16T04:02:19.551626Z"
    }
   },
   "id": "c692bf17d731b839",
   "execution_count": 7
  },
  {
   "cell_type": "code",
   "outputs": [
    {
     "data": {
      "text/plain": "      timestamp  vehicle_id  gear  throttle     speed  acceleration  max_rpm  \\\n0  1.708225e+09           0     0      0.85  1.061667     25.723619   6300.0   \n2  1.708225e+09           0     0      0.85  0.274378      0.511369   6300.0   \n4  1.708225e+09           0     0      0.85  0.076758      0.820615   6300.0   \n6  1.708225e+09           0     1      0.85  1.681097      5.602935   6300.0   \n8  1.708225e+09           0     1      0.85  2.274781      2.170914   6300.0   \n\n   gear_ratio  wheel_radius  engine_rpm  inclination tyre_pressure  odometer  \\\n0        3.45          0.33   30.737318     0.068042  (0, 0, 0, 0)  0.000000   \n2        3.45          0.33    7.943773     0.136481  (0, 0, 0, 0)  0.029130   \n4        3.45          0.33    2.222298     0.082611  (0, 0, 0, 0)  0.062866   \n6        2.10          0.33  401.681974     0.610148  (0, 0, 0, 0)  0.251549   \n8        2.10          0.33  543.537085     0.467403  (0, 0, 0, 0)  0.658497   \n\n   fuel_consumed  ignition_status  engine_oil_life  new_battery_percent  \n0       0.000000             True       100.000000            99.998069  \n2       0.000005             True        99.999999            99.996138  \n4       0.000015             True        99.999999            99.994207  \n6       0.000055             True        99.999994            99.992276  \n8       0.000090             True        99.999985            99.990345  ",
      "text/html": "<div>\n<style scoped>\n    .dataframe tbody tr th:only-of-type {\n        vertical-align: middle;\n    }\n\n    .dataframe tbody tr th {\n        vertical-align: top;\n    }\n\n    .dataframe thead th {\n        text-align: right;\n    }\n</style>\n<table border=\"1\" class=\"dataframe\">\n  <thead>\n    <tr style=\"text-align: right;\">\n      <th></th>\n      <th>timestamp</th>\n      <th>vehicle_id</th>\n      <th>gear</th>\n      <th>throttle</th>\n      <th>speed</th>\n      <th>acceleration</th>\n      <th>max_rpm</th>\n      <th>gear_ratio</th>\n      <th>wheel_radius</th>\n      <th>engine_rpm</th>\n      <th>inclination</th>\n      <th>tyre_pressure</th>\n      <th>odometer</th>\n      <th>fuel_consumed</th>\n      <th>ignition_status</th>\n      <th>engine_oil_life</th>\n      <th>new_battery_percent</th>\n    </tr>\n  </thead>\n  <tbody>\n    <tr>\n      <th>0</th>\n      <td>1.708225e+09</td>\n      <td>0</td>\n      <td>0</td>\n      <td>0.85</td>\n      <td>1.061667</td>\n      <td>25.723619</td>\n      <td>6300.0</td>\n      <td>3.45</td>\n      <td>0.33</td>\n      <td>30.737318</td>\n      <td>0.068042</td>\n      <td>(0, 0, 0, 0)</td>\n      <td>0.000000</td>\n      <td>0.000000</td>\n      <td>True</td>\n      <td>100.000000</td>\n      <td>99.998069</td>\n    </tr>\n    <tr>\n      <th>2</th>\n      <td>1.708225e+09</td>\n      <td>0</td>\n      <td>0</td>\n      <td>0.85</td>\n      <td>0.274378</td>\n      <td>0.511369</td>\n      <td>6300.0</td>\n      <td>3.45</td>\n      <td>0.33</td>\n      <td>7.943773</td>\n      <td>0.136481</td>\n      <td>(0, 0, 0, 0)</td>\n      <td>0.029130</td>\n      <td>0.000005</td>\n      <td>True</td>\n      <td>99.999999</td>\n      <td>99.996138</td>\n    </tr>\n    <tr>\n      <th>4</th>\n      <td>1.708225e+09</td>\n      <td>0</td>\n      <td>0</td>\n      <td>0.85</td>\n      <td>0.076758</td>\n      <td>0.820615</td>\n      <td>6300.0</td>\n      <td>3.45</td>\n      <td>0.33</td>\n      <td>2.222298</td>\n      <td>0.082611</td>\n      <td>(0, 0, 0, 0)</td>\n      <td>0.062866</td>\n      <td>0.000015</td>\n      <td>True</td>\n      <td>99.999999</td>\n      <td>99.994207</td>\n    </tr>\n    <tr>\n      <th>6</th>\n      <td>1.708225e+09</td>\n      <td>0</td>\n      <td>1</td>\n      <td>0.85</td>\n      <td>1.681097</td>\n      <td>5.602935</td>\n      <td>6300.0</td>\n      <td>2.10</td>\n      <td>0.33</td>\n      <td>401.681974</td>\n      <td>0.610148</td>\n      <td>(0, 0, 0, 0)</td>\n      <td>0.251549</td>\n      <td>0.000055</td>\n      <td>True</td>\n      <td>99.999994</td>\n      <td>99.992276</td>\n    </tr>\n    <tr>\n      <th>8</th>\n      <td>1.708225e+09</td>\n      <td>0</td>\n      <td>1</td>\n      <td>0.85</td>\n      <td>2.274781</td>\n      <td>2.170914</td>\n      <td>6300.0</td>\n      <td>2.10</td>\n      <td>0.33</td>\n      <td>543.537085</td>\n      <td>0.467403</td>\n      <td>(0, 0, 0, 0)</td>\n      <td>0.658497</td>\n      <td>0.000090</td>\n      <td>True</td>\n      <td>99.999985</td>\n      <td>99.990345</td>\n    </tr>\n  </tbody>\n</table>\n</div>"
     },
     "execution_count": 8,
     "metadata": {},
     "output_type": "execute_result"
    }
   ],
   "source": [
    "df.head()"
   ],
   "metadata": {
    "collapsed": false,
    "ExecuteTime": {
     "end_time": "2024-03-16T04:02:20.174845Z",
     "start_time": "2024-03-16T04:02:20.157674Z"
    }
   },
   "id": "6fa0260d0c69da48",
   "execution_count": 8
  },
  {
   "cell_type": "code",
   "outputs": [],
   "source": [
    "X = df[[\"speed\", \"throttle\", \"acceleration\", \"max_rpm\"]]"
   ],
   "metadata": {
    "collapsed": false,
    "ExecuteTime": {
     "end_time": "2024-03-16T04:02:22.278513Z",
     "start_time": "2024-03-16T04:02:22.269973Z"
    }
   },
   "id": "39e517c465ae83a5",
   "execution_count": 10
  },
  {
   "cell_type": "code",
   "outputs": [],
   "source": [
    "y = df[\"engine_rpm\"]"
   ],
   "metadata": {
    "collapsed": false,
    "ExecuteTime": {
     "end_time": "2024-03-16T04:02:23.001978Z",
     "start_time": "2024-03-16T04:02:22.993364Z"
    }
   },
   "id": "44b5f53ff4eae2a3",
   "execution_count": 11
  },
  {
   "cell_type": "code",
   "outputs": [],
   "source": [
    "from sklearn.model_selection import train_test_split"
   ],
   "metadata": {
    "collapsed": false,
    "ExecuteTime": {
     "end_time": "2024-03-16T04:02:25.908167Z",
     "start_time": "2024-03-16T04:02:25.646151Z"
    }
   },
   "id": "e64c4c6d94a41973",
   "execution_count": 12
  },
  {
   "cell_type": "code",
   "outputs": [],
   "source": [
    "X_train, X_test, y_train, y_test = train_test_split(X, y, test_size=0.2)"
   ],
   "metadata": {
    "collapsed": false,
    "ExecuteTime": {
     "end_time": "2024-03-16T04:02:26.151850Z",
     "start_time": "2024-03-16T04:02:26.141528Z"
    }
   },
   "id": "5d0678398cb36912",
   "execution_count": 13
  },
  {
   "cell_type": "code",
   "outputs": [],
   "source": [
    "from sklearn.ensemble import RandomForestRegressor"
   ],
   "metadata": {
    "collapsed": false,
    "ExecuteTime": {
     "end_time": "2024-03-16T04:02:31.241744Z",
     "start_time": "2024-03-16T04:02:31.050999Z"
    }
   },
   "id": "46cb555f54fdeaf8",
   "execution_count": 14
  },
  {
   "cell_type": "code",
   "outputs": [],
   "source": [
    "rfc = RandomForestRegressor(n_estimators=100)"
   ],
   "metadata": {
    "collapsed": false,
    "ExecuteTime": {
     "end_time": "2024-03-16T04:02:34.711799Z",
     "start_time": "2024-03-16T04:02:34.706669Z"
    }
   },
   "id": "509993868962051c",
   "execution_count": 15
  },
  {
   "cell_type": "code",
   "outputs": [
    {
     "data": {
      "text/plain": "RandomForestRegressor()",
      "text/html": "<style>#sk-container-id-1 {\n  /* Definition of color scheme common for light and dark mode */\n  --sklearn-color-text: black;\n  --sklearn-color-line: gray;\n  /* Definition of color scheme for unfitted estimators */\n  --sklearn-color-unfitted-level-0: #fff5e6;\n  --sklearn-color-unfitted-level-1: #f6e4d2;\n  --sklearn-color-unfitted-level-2: #ffe0b3;\n  --sklearn-color-unfitted-level-3: chocolate;\n  /* Definition of color scheme for fitted estimators */\n  --sklearn-color-fitted-level-0: #f0f8ff;\n  --sklearn-color-fitted-level-1: #d4ebff;\n  --sklearn-color-fitted-level-2: #b3dbfd;\n  --sklearn-color-fitted-level-3: cornflowerblue;\n\n  /* Specific color for light theme */\n  --sklearn-color-text-on-default-background: var(--sg-text-color, var(--theme-code-foreground, var(--jp-content-font-color1, black)));\n  --sklearn-color-background: var(--sg-background-color, var(--theme-background, var(--jp-layout-color0, white)));\n  --sklearn-color-border-box: var(--sg-text-color, var(--theme-code-foreground, var(--jp-content-font-color1, black)));\n  --sklearn-color-icon: #696969;\n\n  @media (prefers-color-scheme: dark) {\n    /* Redefinition of color scheme for dark theme */\n    --sklearn-color-text-on-default-background: var(--sg-text-color, var(--theme-code-foreground, var(--jp-content-font-color1, white)));\n    --sklearn-color-background: var(--sg-background-color, var(--theme-background, var(--jp-layout-color0, #111)));\n    --sklearn-color-border-box: var(--sg-text-color, var(--theme-code-foreground, var(--jp-content-font-color1, white)));\n    --sklearn-color-icon: #878787;\n  }\n}\n\n#sk-container-id-1 {\n  color: var(--sklearn-color-text);\n}\n\n#sk-container-id-1 pre {\n  padding: 0;\n}\n\n#sk-container-id-1 input.sk-hidden--visually {\n  border: 0;\n  clip: rect(1px 1px 1px 1px);\n  clip: rect(1px, 1px, 1px, 1px);\n  height: 1px;\n  margin: -1px;\n  overflow: hidden;\n  padding: 0;\n  position: absolute;\n  width: 1px;\n}\n\n#sk-container-id-1 div.sk-dashed-wrapped {\n  border: 1px dashed var(--sklearn-color-line);\n  margin: 0 0.4em 0.5em 0.4em;\n  box-sizing: border-box;\n  padding-bottom: 0.4em;\n  background-color: var(--sklearn-color-background);\n}\n\n#sk-container-id-1 div.sk-container {\n  /* jupyter's `normalize.less` sets `[hidden] { display: none; }`\n     but bootstrap.min.css set `[hidden] { display: none !important; }`\n     so we also need the `!important` here to be able to override the\n     default hidden behavior on the sphinx rendered scikit-learn.org.\n     See: https://github.com/scikit-learn/scikit-learn/issues/21755 */\n  display: inline-block !important;\n  position: relative;\n}\n\n#sk-container-id-1 div.sk-text-repr-fallback {\n  display: none;\n}\n\ndiv.sk-parallel-item,\ndiv.sk-serial,\ndiv.sk-item {\n  /* draw centered vertical line to link estimators */\n  background-image: linear-gradient(var(--sklearn-color-text-on-default-background), var(--sklearn-color-text-on-default-background));\n  background-size: 2px 100%;\n  background-repeat: no-repeat;\n  background-position: center center;\n}\n\n/* Parallel-specific style estimator block */\n\n#sk-container-id-1 div.sk-parallel-item::after {\n  content: \"\";\n  width: 100%;\n  border-bottom: 2px solid var(--sklearn-color-text-on-default-background);\n  flex-grow: 1;\n}\n\n#sk-container-id-1 div.sk-parallel {\n  display: flex;\n  align-items: stretch;\n  justify-content: center;\n  background-color: var(--sklearn-color-background);\n  position: relative;\n}\n\n#sk-container-id-1 div.sk-parallel-item {\n  display: flex;\n  flex-direction: column;\n}\n\n#sk-container-id-1 div.sk-parallel-item:first-child::after {\n  align-self: flex-end;\n  width: 50%;\n}\n\n#sk-container-id-1 div.sk-parallel-item:last-child::after {\n  align-self: flex-start;\n  width: 50%;\n}\n\n#sk-container-id-1 div.sk-parallel-item:only-child::after {\n  width: 0;\n}\n\n/* Serial-specific style estimator block */\n\n#sk-container-id-1 div.sk-serial {\n  display: flex;\n  flex-direction: column;\n  align-items: center;\n  background-color: var(--sklearn-color-background);\n  padding-right: 1em;\n  padding-left: 1em;\n}\n\n\n/* Toggleable style: style used for estimator/Pipeline/ColumnTransformer box that is\nclickable and can be expanded/collapsed.\n- Pipeline and ColumnTransformer use this feature and define the default style\n- Estimators will overwrite some part of the style using the `sk-estimator` class\n*/\n\n/* Pipeline and ColumnTransformer style (default) */\n\n#sk-container-id-1 div.sk-toggleable {\n  /* Default theme specific background. It is overwritten whether we have a\n  specific estimator or a Pipeline/ColumnTransformer */\n  background-color: var(--sklearn-color-background);\n}\n\n/* Toggleable label */\n#sk-container-id-1 label.sk-toggleable__label {\n  cursor: pointer;\n  display: block;\n  width: 100%;\n  margin-bottom: 0;\n  padding: 0.5em;\n  box-sizing: border-box;\n  text-align: center;\n}\n\n#sk-container-id-1 label.sk-toggleable__label-arrow:before {\n  /* Arrow on the left of the label */\n  content: \"▸\";\n  float: left;\n  margin-right: 0.25em;\n  color: var(--sklearn-color-icon);\n}\n\n#sk-container-id-1 label.sk-toggleable__label-arrow:hover:before {\n  color: var(--sklearn-color-text);\n}\n\n/* Toggleable content - dropdown */\n\n#sk-container-id-1 div.sk-toggleable__content {\n  max-height: 0;\n  max-width: 0;\n  overflow: hidden;\n  text-align: left;\n  /* unfitted */\n  background-color: var(--sklearn-color-unfitted-level-0);\n}\n\n#sk-container-id-1 div.sk-toggleable__content.fitted {\n  /* fitted */\n  background-color: var(--sklearn-color-fitted-level-0);\n}\n\n#sk-container-id-1 div.sk-toggleable__content pre {\n  margin: 0.2em;\n  border-radius: 0.25em;\n  color: var(--sklearn-color-text);\n  /* unfitted */\n  background-color: var(--sklearn-color-unfitted-level-0);\n}\n\n#sk-container-id-1 div.sk-toggleable__content.fitted pre {\n  /* unfitted */\n  background-color: var(--sklearn-color-fitted-level-0);\n}\n\n#sk-container-id-1 input.sk-toggleable__control:checked~div.sk-toggleable__content {\n  /* Expand drop-down */\n  max-height: 200px;\n  max-width: 100%;\n  overflow: auto;\n}\n\n#sk-container-id-1 input.sk-toggleable__control:checked~label.sk-toggleable__label-arrow:before {\n  content: \"▾\";\n}\n\n/* Pipeline/ColumnTransformer-specific style */\n\n#sk-container-id-1 div.sk-label input.sk-toggleable__control:checked~label.sk-toggleable__label {\n  color: var(--sklearn-color-text);\n  background-color: var(--sklearn-color-unfitted-level-2);\n}\n\n#sk-container-id-1 div.sk-label.fitted input.sk-toggleable__control:checked~label.sk-toggleable__label {\n  background-color: var(--sklearn-color-fitted-level-2);\n}\n\n/* Estimator-specific style */\n\n/* Colorize estimator box */\n#sk-container-id-1 div.sk-estimator input.sk-toggleable__control:checked~label.sk-toggleable__label {\n  /* unfitted */\n  background-color: var(--sklearn-color-unfitted-level-2);\n}\n\n#sk-container-id-1 div.sk-estimator.fitted input.sk-toggleable__control:checked~label.sk-toggleable__label {\n  /* fitted */\n  background-color: var(--sklearn-color-fitted-level-2);\n}\n\n#sk-container-id-1 div.sk-label label.sk-toggleable__label,\n#sk-container-id-1 div.sk-label label {\n  /* The background is the default theme color */\n  color: var(--sklearn-color-text-on-default-background);\n}\n\n/* On hover, darken the color of the background */\n#sk-container-id-1 div.sk-label:hover label.sk-toggleable__label {\n  color: var(--sklearn-color-text);\n  background-color: var(--sklearn-color-unfitted-level-2);\n}\n\n/* Label box, darken color on hover, fitted */\n#sk-container-id-1 div.sk-label.fitted:hover label.sk-toggleable__label.fitted {\n  color: var(--sklearn-color-text);\n  background-color: var(--sklearn-color-fitted-level-2);\n}\n\n/* Estimator label */\n\n#sk-container-id-1 div.sk-label label {\n  font-family: monospace;\n  font-weight: bold;\n  display: inline-block;\n  line-height: 1.2em;\n}\n\n#sk-container-id-1 div.sk-label-container {\n  text-align: center;\n}\n\n/* Estimator-specific */\n#sk-container-id-1 div.sk-estimator {\n  font-family: monospace;\n  border: 1px dotted var(--sklearn-color-border-box);\n  border-radius: 0.25em;\n  box-sizing: border-box;\n  margin-bottom: 0.5em;\n  /* unfitted */\n  background-color: var(--sklearn-color-unfitted-level-0);\n}\n\n#sk-container-id-1 div.sk-estimator.fitted {\n  /* fitted */\n  background-color: var(--sklearn-color-fitted-level-0);\n}\n\n/* on hover */\n#sk-container-id-1 div.sk-estimator:hover {\n  /* unfitted */\n  background-color: var(--sklearn-color-unfitted-level-2);\n}\n\n#sk-container-id-1 div.sk-estimator.fitted:hover {\n  /* fitted */\n  background-color: var(--sklearn-color-fitted-level-2);\n}\n\n/* Specification for estimator info (e.g. \"i\" and \"?\") */\n\n/* Common style for \"i\" and \"?\" */\n\n.sk-estimator-doc-link,\na:link.sk-estimator-doc-link,\na:visited.sk-estimator-doc-link {\n  float: right;\n  font-size: smaller;\n  line-height: 1em;\n  font-family: monospace;\n  background-color: var(--sklearn-color-background);\n  border-radius: 1em;\n  height: 1em;\n  width: 1em;\n  text-decoration: none !important;\n  margin-left: 1ex;\n  /* unfitted */\n  border: var(--sklearn-color-unfitted-level-1) 1pt solid;\n  color: var(--sklearn-color-unfitted-level-1);\n}\n\n.sk-estimator-doc-link.fitted,\na:link.sk-estimator-doc-link.fitted,\na:visited.sk-estimator-doc-link.fitted {\n  /* fitted */\n  border: var(--sklearn-color-fitted-level-1) 1pt solid;\n  color: var(--sklearn-color-fitted-level-1);\n}\n\n/* On hover */\ndiv.sk-estimator:hover .sk-estimator-doc-link:hover,\n.sk-estimator-doc-link:hover,\ndiv.sk-label-container:hover .sk-estimator-doc-link:hover,\n.sk-estimator-doc-link:hover {\n  /* unfitted */\n  background-color: var(--sklearn-color-unfitted-level-3);\n  color: var(--sklearn-color-background);\n  text-decoration: none;\n}\n\ndiv.sk-estimator.fitted:hover .sk-estimator-doc-link.fitted:hover,\n.sk-estimator-doc-link.fitted:hover,\ndiv.sk-label-container:hover .sk-estimator-doc-link.fitted:hover,\n.sk-estimator-doc-link.fitted:hover {\n  /* fitted */\n  background-color: var(--sklearn-color-fitted-level-3);\n  color: var(--sklearn-color-background);\n  text-decoration: none;\n}\n\n/* Span, style for the box shown on hovering the info icon */\n.sk-estimator-doc-link span {\n  display: none;\n  z-index: 9999;\n  position: relative;\n  font-weight: normal;\n  right: .2ex;\n  padding: .5ex;\n  margin: .5ex;\n  width: min-content;\n  min-width: 20ex;\n  max-width: 50ex;\n  color: var(--sklearn-color-text);\n  box-shadow: 2pt 2pt 4pt #999;\n  /* unfitted */\n  background: var(--sklearn-color-unfitted-level-0);\n  border: .5pt solid var(--sklearn-color-unfitted-level-3);\n}\n\n.sk-estimator-doc-link.fitted span {\n  /* fitted */\n  background: var(--sklearn-color-fitted-level-0);\n  border: var(--sklearn-color-fitted-level-3);\n}\n\n.sk-estimator-doc-link:hover span {\n  display: block;\n}\n\n/* \"?\"-specific style due to the `<a>` HTML tag */\n\n#sk-container-id-1 a.estimator_doc_link {\n  float: right;\n  font-size: 1rem;\n  line-height: 1em;\n  font-family: monospace;\n  background-color: var(--sklearn-color-background);\n  border-radius: 1rem;\n  height: 1rem;\n  width: 1rem;\n  text-decoration: none;\n  /* unfitted */\n  color: var(--sklearn-color-unfitted-level-1);\n  border: var(--sklearn-color-unfitted-level-1) 1pt solid;\n}\n\n#sk-container-id-1 a.estimator_doc_link.fitted {\n  /* fitted */\n  border: var(--sklearn-color-fitted-level-1) 1pt solid;\n  color: var(--sklearn-color-fitted-level-1);\n}\n\n/* On hover */\n#sk-container-id-1 a.estimator_doc_link:hover {\n  /* unfitted */\n  background-color: var(--sklearn-color-unfitted-level-3);\n  color: var(--sklearn-color-background);\n  text-decoration: none;\n}\n\n#sk-container-id-1 a.estimator_doc_link.fitted:hover {\n  /* fitted */\n  background-color: var(--sklearn-color-fitted-level-3);\n}\n</style><div id=\"sk-container-id-1\" class=\"sk-top-container\"><div class=\"sk-text-repr-fallback\"><pre>RandomForestRegressor()</pre><b>In a Jupyter environment, please rerun this cell to show the HTML representation or trust the notebook. <br />On GitHub, the HTML representation is unable to render, please try loading this page with nbviewer.org.</b></div><div class=\"sk-container\" hidden><div class=\"sk-item\"><div class=\"sk-estimator fitted sk-toggleable\"><input class=\"sk-toggleable__control sk-hidden--visually\" id=\"sk-estimator-id-1\" type=\"checkbox\" checked><label for=\"sk-estimator-id-1\" class=\"sk-toggleable__label fitted sk-toggleable__label-arrow fitted\">&nbsp;&nbsp;RandomForestRegressor<a class=\"sk-estimator-doc-link fitted\" rel=\"noreferrer\" target=\"_blank\" href=\"https://scikit-learn.org/1.4/modules/generated/sklearn.ensemble.RandomForestRegressor.html\">?<span>Documentation for RandomForestRegressor</span></a><span class=\"sk-estimator-doc-link fitted\">i<span>Fitted</span></span></label><div class=\"sk-toggleable__content fitted\"><pre>RandomForestRegressor()</pre></div> </div></div></div></div>"
     },
     "execution_count": 16,
     "metadata": {},
     "output_type": "execute_result"
    }
   ],
   "source": [
    "rfc.fit(X_train, y_train)"
   ],
   "metadata": {
    "collapsed": false,
    "ExecuteTime": {
     "end_time": "2024-03-16T04:02:38.993745Z",
     "start_time": "2024-03-16T04:02:38.734855Z"
    }
   },
   "id": "f1a08f9e27df9403",
   "execution_count": 16
  },
  {
   "cell_type": "code",
   "outputs": [],
   "source": [
    "predictions = rfc.predict(X_test)"
   ],
   "metadata": {
    "collapsed": false,
    "ExecuteTime": {
     "end_time": "2024-03-16T04:02:41.793127Z",
     "start_time": "2024-03-16T04:02:41.766600Z"
    }
   },
   "id": "aa9c49a597f888d2",
   "execution_count": 17
  },
  {
   "cell_type": "code",
   "outputs": [],
   "source": [
    "from sklearn.metrics import mean_absolute_error, mean_squared_error"
   ],
   "metadata": {
    "collapsed": false,
    "ExecuteTime": {
     "end_time": "2024-03-16T04:02:48.677841Z",
     "start_time": "2024-03-16T04:02:48.673212Z"
    }
   },
   "id": "2727eaae478bbcda",
   "execution_count": 18
  },
  {
   "cell_type": "code",
   "outputs": [
    {
     "data": {
      "text/plain": "15.80252421149909"
     },
     "execution_count": 19,
     "metadata": {},
     "output_type": "execute_result"
    }
   ],
   "source": [
    "mean_absolute_error(y_test, predictions)    "
   ],
   "metadata": {
    "collapsed": false,
    "ExecuteTime": {
     "end_time": "2024-03-16T04:02:52.074138Z",
     "start_time": "2024-03-16T04:02:52.063203Z"
    }
   },
   "id": "99470d3bf62adf60",
   "execution_count": 19
  },
  {
   "cell_type": "code",
   "outputs": [],
   "source": [
    "import numpy as np"
   ],
   "metadata": {
    "collapsed": false,
    "ExecuteTime": {
     "end_time": "2024-03-16T04:03:03.418174Z",
     "start_time": "2024-03-16T04:03:03.409358Z"
    }
   },
   "id": "36bed6cd8475af10",
   "execution_count": 21
  },
  {
   "cell_type": "code",
   "outputs": [],
   "source": [
    "rmse = np.sqrt(mean_squared_error(y_test, predictions))"
   ],
   "metadata": {
    "collapsed": false,
    "ExecuteTime": {
     "end_time": "2024-03-16T04:03:41.452851Z",
     "start_time": "2024-03-16T04:03:41.441752Z"
    }
   },
   "id": "afe40a3934adfcae",
   "execution_count": 24
  },
  {
   "cell_type": "code",
   "outputs": [
    {
     "name": "stdout",
     "output_type": "stream",
     "text": [
      "RMSE: 68.57361840631863\n"
     ]
    }
   ],
   "source": [
    "print(\"RMSE:\", rmse)"
   ],
   "metadata": {
    "collapsed": false,
    "ExecuteTime": {
     "end_time": "2024-03-16T04:04:08.035723Z",
     "start_time": "2024-03-16T04:04:08.027667Z"
    }
   },
   "id": "aa9b4cbf08e14b68",
   "execution_count": 27
  },
  {
   "cell_type": "code",
   "outputs": [
    {
     "name": "stdout",
     "output_type": "stream",
     "text": [
      "Accuracy: 0.9835715187545178\n"
     ]
    }
   ],
   "source": [
    "print(\"Accuracy:\",rfc.score(X_test, y_test))"
   ],
   "metadata": {
    "collapsed": false,
    "ExecuteTime": {
     "end_time": "2024-03-16T04:04:19.876646Z",
     "start_time": "2024-03-16T04:04:19.856262Z"
    }
   },
   "id": "f011cf45eb2ad25f",
   "execution_count": 29
  },
  {
   "cell_type": "markdown",
   "source": [
    "# Conclusion\n",
    "### We have trained a RandomForestRegressor to predict the engine RPM with 98% accuracy."
   ],
   "metadata": {
    "collapsed": false
   },
   "id": "2f688d91d0340b20"
  }
 ],
 "metadata": {
  "kernelspec": {
   "display_name": "Python 3",
   "language": "python",
   "name": "python3"
  },
  "language_info": {
   "codemirror_mode": {
    "name": "ipython",
    "version": 2
   },
   "file_extension": ".py",
   "mimetype": "text/x-python",
   "name": "python",
   "nbconvert_exporter": "python",
   "pygments_lexer": "ipython2",
   "version": "2.7.6"
  }
 },
 "nbformat": 4,
 "nbformat_minor": 5
}
